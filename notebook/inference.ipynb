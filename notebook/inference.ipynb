{
 "cells": [
  {
   "cell_type": "code",
   "execution_count": null,
   "id": "bf04342a",
   "metadata": {
    "ExecuteTime": {
     "end_time": "2021-04-25T05:44:57.204927Z",
     "start_time": "2021-04-25T05:44:56.917105Z"
    }
   },
   "outputs": [],
   "source": [
    "import os\n",
    "import sys\n",
    "import matplotlib.pyplot as plt\n",
    "\n",
    "import torch\n",
    "from torch import nn\n",
    "from torch.utils.data import DataLoader\n",
    "from tqdm.auto import tqdm"
   ]
  },
  {
   "cell_type": "code",
   "execution_count": null,
   "id": "0d71be85",
   "metadata": {},
   "outputs": [],
   "source": [
    "sys.path.append('../')\n",
    "from src.config import CFG\n",
    "from src.dataset import Img_dataset, get_transform\n",
    "from src.model import Generator, Discriminator\n",
    "from src.utils import show_image, conv_scale"
   ]
  },
  {
   "cell_type": "markdown",
   "id": "b2d6de1a",
   "metadata": {},
   "source": [
    "## データセットの中身を確認"
   ]
  },
  {
   "cell_type": "code",
   "execution_count": null,
   "id": "aaa90b8a",
   "metadata": {},
   "outputs": [],
   "source": [
    "# check dataset\n",
    "paths = [f'{CFG.IMG_DIR}/{path}' for path in os.listdir(CFG.IMG_DIR)]\n",
    "train_dataset = Img_dataset(paths, train_tran=get_transform(TRAIN=False),\n",
    "                            val_tran=get_transform(TRAIN=True))\n",
    "\n",
    "for i in range(1):\n",
    "    before = train_dataset[i][0].numpy().astype(int).transpose(1, 2, 0)\n",
    "    plt.imshow(before)\n",
    "    plt.show()  \n",
    "    "
   ]
  },
  {
   "cell_type": "code",
   "execution_count": null,
   "id": "843d2370",
   "metadata": {
    "scrolled": true
   },
   "outputs": [],
   "source": [
    "device = torch.device('cuda' if torch.cuda.is_available() else 'cpu')\n",
    "print(device)"
   ]
  },
  {
   "cell_type": "code",
   "execution_count": null,
   "id": "c668eb7f",
   "metadata": {},
   "outputs": [],
   "source": [
    "torch.backends.cudnn.benchmark = True"
   ]
  },
  {
   "cell_type": "code",
   "execution_count": null,
   "id": "5dc1899d",
   "metadata": {
    "scrolled": true
   },
   "outputs": [],
   "source": [
    "model_G = Generator()\n",
    "model_G = nn.DataParallel(model_G)\n",
    "model_G = model_G.to(device)\n",
    "params_G = torch.optim.Adam(model_G.parameters(),\n",
    "            lr=0.0002, betas=(0.5, 0.999))\n",
    "\n",
    "states = torch.load(CFG.trained_param\n",
    "                   )\n",
    "model_G.load_state_dict(states)\n",
    "model_G.eval()"
   ]
  },
  {
   "cell_type": "code",
   "execution_count": null,
   "id": "4b41881c",
   "metadata": {},
   "outputs": [],
   "source": [
    "train_loader = DataLoader(train_dataset, batch_size=1, shuffle=True)\n"
   ]
  },
  {
   "cell_type": "code",
   "execution_count": null,
   "id": "7cb5f276",
   "metadata": {},
   "outputs": [],
   "source": [
    "fig, ax = plt.subplots(8, 2, figsize=(10, 80))\n",
    "\n",
    "i = 0\n",
    "for input_image, _ in train_loader:\n",
    "    print(i)\n",
    "    input_image = input_image.to(device)\n",
    "    gen_image = model_G(input_image)\n",
    "    print(input_image.shape)\n",
    "    \n",
    "    input_ = input_image[0].to('cpu').numpy().transpose(1, 2, 0).astype(int)\n",
    "    g = conv_scale(gen_image[0].to('cpu').detach().numpy().transpose(1, 2, 0))\n",
    "    ax[i][0].imshow(input_)\n",
    "    ax[i][0].set_title('input')\n",
    "    ax[i][1].imshow(g)\n",
    "    ax[i][1].set_title('output')\n",
    "    \n",
    "    i += 1\n",
    "    if i >= 8:\n",
    "        break\n",
    "    \n",
    "# plt.tight_layout()\n",
    "plt.show()"
   ]
  },
  {
   "cell_type": "code",
   "execution_count": null,
   "id": "c7f8e2d0",
   "metadata": {},
   "outputs": [],
   "source": []
  },
  {
   "cell_type": "code",
   "execution_count": null,
   "id": "e50801ad",
   "metadata": {},
   "outputs": [],
   "source": []
  }
 ],
 "metadata": {
  "hide_input": false,
  "kernelspec": {
   "display_name": "Python 3",
   "language": "python",
   "name": "python3"
  },
  "language_info": {
   "codemirror_mode": {
    "name": "ipython",
    "version": 3
   },
   "file_extension": ".py",
   "mimetype": "text/x-python",
   "name": "python",
   "nbconvert_exporter": "python",
   "pygments_lexer": "ipython3",
   "version": "3.8.8"
  },
  "toc": {
   "base_numbering": 1,
   "nav_menu": {},
   "number_sections": true,
   "sideBar": true,
   "skip_h1_title": false,
   "title_cell": "Table of Contents",
   "title_sidebar": "Contents",
   "toc_cell": false,
   "toc_position": {},
   "toc_section_display": true,
   "toc_window_display": false
  }
 },
 "nbformat": 4,
 "nbformat_minor": 5
}
